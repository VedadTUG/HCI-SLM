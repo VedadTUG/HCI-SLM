{
 "cells": [
  {
   "cell_type": "code",
   "execution_count": 6,
   "id": "59e7c3e7-743e-4b55-abc7-90541b09b1a3",
   "metadata": {
    "ExecuteTime": {
     "end_time": "2024-04-26T13:07:49.651912Z",
     "start_time": "2024-04-26T13:07:49.647569Z"
    }
   },
   "outputs": [],
   "source": [
    "# This is the Notebook for our Carbonemissions test\n"
   ]
  },
  {
   "cell_type": "code",
   "outputs": [],
   "source": [
    "from codecarbon import EmissionsTracker"
   ],
   "metadata": {
    "collapsed": false,
    "ExecuteTime": {
     "end_time": "2024-04-26T12:56:32.507487Z",
     "start_time": "2024-04-26T12:56:32.502935Z"
    }
   },
   "id": "94c7d6338ee67e07",
   "execution_count": 4
  },
  {
   "cell_type": "code",
   "outputs": [],
   "source": [],
   "metadata": {
    "collapsed": false
   },
   "id": "6fea2d7055c1969"
  }
 ],
 "metadata": {
  "kernelspec": {
   "display_name": "Python 3 (ipykernel)",
   "language": "python",
   "name": "python3"
  },
  "language_info": {
   "codemirror_mode": {
    "name": "ipython",
    "version": 3
   },
   "file_extension": ".py",
   "mimetype": "text/x-python",
   "name": "python",
   "nbconvert_exporter": "python",
   "pygments_lexer": "ipython3",
   "version": "3.11.7"
  }
 },
 "nbformat": 4,
 "nbformat_minor": 5
}
