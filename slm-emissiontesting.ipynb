{
 "cells": [
  {
   "cell_type": "code",
   "execution_count": 6,
   "id": "59e7c3e7-743e-4b55-abc7-90541b09b1a3",
   "metadata": {
    "ExecuteTime": {
     "end_time": "2024-04-26T13:07:49.651912Z",
     "start_time": "2024-04-26T13:07:49.647569Z"
    }
   },
   "outputs": [],
   "source": [
    "# This is the Notebook for our Carbonemissions test\n",
    "#Reference tinyllama chat assistant: https://farmaker47.medium.com/train-a-tiny-llama-model-to-help-on-a-specific-domain-task-9fc877573253\n",
    "#https://github.com/karpathy/llama2.c#models\n",
    "#https://medium.com/@geronimo7/tinyllama-1-1b-and-stable-lm-2-1-6b-cc0051d79be9\n",
    "#https://www.youtube.com/watch?v=OVqe6GTrDFM"
   ]
  },
  {
   "cell_type": "code",
   "outputs": [],
   "source": [
    "from codecarbon import EmissionsTracker"
   ],
   "metadata": {
    "collapsed": false,
    "ExecuteTime": {
     "end_time": "2024-04-26T12:56:32.507487Z",
     "start_time": "2024-04-26T12:56:32.502935Z"
    }
   },
   "id": "94c7d6338ee67e07",
   "execution_count": 4
  },
  {
   "cell_type": "code",
   "outputs": [],
   "source": [],
   "metadata": {
    "collapsed": false
   },
   "id": "6fea2d7055c1969"
  }
 ],
 "metadata": {
  "kernelspec": {
   "display_name": "Python 3 (ipykernel)",
   "language": "python",
   "name": "python3"
  },
  "language_info": {
   "codemirror_mode": {
    "name": "ipython",
    "version": 3
   },
   "file_extension": ".py",
   "mimetype": "text/x-python",
   "name": "python",
   "nbconvert_exporter": "python",
   "pygments_lexer": "ipython3",
   "version": "3.11.7"
  }
 },
 "nbformat": 4,
 "nbformat_minor": 5
}
