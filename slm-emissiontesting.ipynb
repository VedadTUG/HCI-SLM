{
 "cells": [
  {
   "cell_type": "code",
   "execution_count": null,
   "id": "59e7c3e7-743e-4b55-abc7-90541b09b1a3",
   "metadata": {},
   "outputs": [],
   "source": [
    "# This is the Notebook for our Carbonemissions tests"
   ]
  }
 ],
 "metadata": {
  "kernelspec": {
   "display_name": "Python 3 (ipykernel)",
   "language": "python",
   "name": "python3"
  },
  "language_info": {
   "codemirror_mode": {
    "name": "ipython",
    "version": 3
   },
   "file_extension": ".py",
   "mimetype": "text/x-python",
   "name": "python",
   "nbconvert_exporter": "python",
   "pygments_lexer": "ipython3",
   "version": "3.11.7"
  }
 },
 "nbformat": 4,
 "nbformat_minor": 5
}
